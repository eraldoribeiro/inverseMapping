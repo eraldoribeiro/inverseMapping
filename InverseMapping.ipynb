{
 "cells": [
  {
   "cell_type": "markdown",
   "metadata": {},
   "source": [
    "# Inverse mapping \n",
    "\n",
    "This tutorial shows an example of using inverse mapping to transform (i.e., warp) an image. Here, the image is a square on a black background. The transformation is a rotation but it could be any transformation (e.g., scaling, elastic warping). \n",
    "\n",
    "When transforming images, it is not enough to transform the coordinates. We also need to transfer the color of the pixels from the original image to the transformed image. This color transfer is done by an inverse-mapping procedure.    \n",
    "\n",
    "This example was partially adapted from: \n",
    "http://scipy-lectures.github.io/advanced/image_processing/\n"
   ]
  },
  {
   "cell_type": "code",
   "execution_count": 1,
   "metadata": {},
   "outputs": [],
   "source": [
    "# Ensures ipython shows images and results in line instead of all at the end of the notebook. \n",
    "%matplotlib inline"
   ]
  },
  {
   "cell_type": "code",
   "execution_count": 2,
   "metadata": {},
   "outputs": [],
   "source": [
    "# Import all libraries that we will use\n",
    "from scipy import ndimage\n",
    "from scipy import misc\n",
    "import imageio\n",
    "import matplotlib.pyplot as plt\n",
    "import numpy  as np\n",
    "import PIL"
   ]
  },
  {
   "cell_type": "code",
   "execution_count": 3,
   "metadata": {},
   "outputs": [],
   "source": [
    "#--------------------------------------------------------------# \n",
    "# Checks boundaries of matrix \n",
    "#--------------------------------------------------------------#\n",
    "def isWithinBoundaries(x, y, nRows, nCols):\n",
    "    # Return True if (x,y) is within the boundaries of matrix A(nRows,nCols)\n",
    "    \n",
    "    return (x>=0 and x<N and y >= 0 and y < M)"
   ]
  },
  {
   "cell_type": "code",
   "execution_count": 4,
   "metadata": {},
   "outputs": [],
   "source": [
    "#--------------------------------------------------------------# \n",
    "# Performs inverse mapping \n",
    "#--------------------------------------------------------------#\n",
    "def inverseTransformation(u, v, theta):\n",
    "    # Rotation transformation \n",
    "    x = u * np.cos(theta) - v * np.sin(theta)\n",
    "    y = u * np.sin(theta) + v * np.cos(theta)\n",
    "\n",
    "    return x,y"
   ]
  },
  {
   "cell_type": "markdown",
   "metadata": {},
   "source": [
    "## Create source image \n",
    "Create and display a synthetic image of a yellow square centered on a black background. Matrix elements are of float type. Here, the image is represented by $M \\times N \\times K$ matrix, i.e., Image$(i,j,k)$, with $k = 3$. Each location $(i,j)$ stores the three color components red, green, and blue. The value of the color components is in the range [0,1].  "
   ]
  },
  {
   "cell_type": "code",
   "execution_count": 5,
   "metadata": {},
   "outputs": [],
   "source": [
    "M = 256; N = 256;         # M: Number of rows, N: Number of columns.  \n",
    "src_im = np.zeros((M, N, 3), dtype='f')\n",
    "\n",
    "xo = 64; yo = 64; dx = dy = 128;            # Top-left corner of square and its sizes                 \n",
    "\n",
    "# Initialize the region of the rectangle (yellow = red + blue) \n",
    "src_im[yo:yo+dy, xo:xo+dx, 0] = 1.0         # Red component                            \n",
    "src_im[yo:yo+dy, xo:xo+dx, 1] = 1.0         # Green component        \n",
    "src_im[yo:yo+dy, xo:xo+dx, 2] = 0.0         # Blue component      \n",
    "\n",
    "# Blur the shape by applying a Guassian filter to all channels. Smoothing the \n",
    "# value this way simulates a real image.  \n",
    "src_im[:,:,0] = ndimage.gaussian_filter(src_im[:,:,0], 5.0)     \n",
    "src_im[:,:,1] = ndimage.gaussian_filter(src_im[:,:,1], 5.0)     \n",
    "src_im[:,:,2] = ndimage.gaussian_filter(src_im[:,:,2], 5.0)     "
   ]
  },
  {
   "cell_type": "markdown",
   "metadata": {},
   "source": [
    "## Display source image "
   ]
  },
  {
   "cell_type": "code",
   "execution_count": 6,
   "metadata": {},
   "outputs": [
    {
     "data": {
      "image/png": "[encoded data removed]",
      "text/plain": [
       "<Figure size 432x288 with 1 Axes>"
      ]
     },
     "metadata": {
      "needs_background": "light"
     },
     "output_type": "display_data"
    }
   ],
   "source": [
    "# Display source image \n",
    "plt.figure(1)\n",
    "plt.imshow(src_im)\n",
    "plt.title('Source Image')\n",
    "plt.show()"
   ]
  },
  {
   "cell_type": "code",
   "execution_count": 7,
   "metadata": {},
   "outputs": [
    {
     "name": "stderr",
     "output_type": "stream",
     "text": [
      "Lossy conversion from float32 to uint8. Range [0, 1]. Convert image to uint8 prior to saving to suppress this warning.\n"
     ]
    }
   ],
   "source": [
    "# Save original matrix as a png image          \n",
    "imageio.imwrite('Square.png', src_im) # uses the Image module (PIL)\n",
    "          \n",
    "# Create a new matrix to hold another image. This new image will hold the result \n",
    "# of the transformation. \n",
    "dst_im = np.zeros((M, N, 3), dtype='f')\n",
    "\n",
    "theta = np.pi/8.0             # Rotation angle   "
   ]
  },
  {
   "cell_type": "markdown",
   "metadata": {},
   "source": [
    "## Inverse-mapping loop \n",
    "To apply the inverse mapping to images, we need to transfer the color of pixels from the source image to the destination image. To do that, we loop over the destination image matrix, which we assume is indexed by $(u,v)$ coordinates. The original image is assumed to be in $(x,y)$ coordinates. For each pixel location $(u,v)$ in the destination image, we calculate the inverse transformation, which gives us a location $(x,y)$ in the original image."
   ]
  },
  {
   "cell_type": "code",
   "execution_count": 8,
   "metadata": {},
   "outputs": [],
   "source": [
    "for v in range(0,M):\n",
    "    for u in range(0,N):\n",
    "        \n",
    "        # Map the current location on the destination image to the \n",
    "        # corresponding location of the original image\n",
    "        x,y = inverseTransformation(u, v, theta)\n",
    "\n",
    "        # Set the color of (u,v) location to the color of (x,y) location if \n",
    "        # (x,y) are valid coordinates.\n",
    "        if isWithinBoundaries(x, y, M, N): \n",
    "            dst_im[v,u,0] = src_im[int(y),int(x),0]    # red component\n",
    "            dst_im[v,u,1] = src_im[int(y),int(x),1]    # green component\n",
    "            dst_im[v,u,2] = src_im[int(y),int(x),2]    # blue component \n",
    "         \n",
    "         "
   ]
  },
  {
   "cell_type": "markdown",
   "metadata": {},
   "source": [
    "## Display resulting image "
   ]
  },
  {
   "cell_type": "code",
   "execution_count": 9,
   "metadata": {},
   "outputs": [
    {
     "data": {
      "image/png": "[encoded data removed]",
      "text/plain": [
       "<Figure size 432x288 with 1 Axes>"
      ]
     },
     "metadata": {
      "needs_background": "light"
     },
     "output_type": "display_data"
    }
   ],
   "source": [
    "# Display image \n",
    "plt.figure(2)\n",
    "plt.imshow(dst_im)\n",
    "plt.title('Destination Image')\n",
    "plt.show()"
   ]
  },
  {
   "cell_type": "code",
   "execution_count": 10,
   "metadata": {},
   "outputs": [
    {
     "name": "stderr",
     "output_type": "stream",
     "text": [
      "Lossy conversion from float32 to uint8. Range [0, 1]. Convert image to uint8 prior to saving to suppress this warning.\n"
     ]
    }
   ],
   "source": [
    "          \n",
    "# Save rotated matrix as a png image          \n",
    "imageio.imwrite('rotatedSquare.png', dst_im) # uses the Image module (PIL)"
   ]
  },
  {
   "cell_type": "code",
   "execution_count": null,
   "metadata": {},
   "outputs": [],
   "source": []
  },
  {
   "cell_type": "code",
   "execution_count": null,
   "metadata": {},
   "outputs": [],
   "source": []
  }
 ],
 "metadata": {
  "anaconda-cloud": {},
  "kernelspec": {
   "display_name": "Python 3",
   "language": "python",
   "name": "python3"
  },
  "language_info": {
   "codemirror_mode": {
    "name": "ipython",
    "version": 3
   },
   "file_extension": ".py",
   "mimetype": "text/x-python",
   "name": "python",
   "nbconvert_exporter": "python",
   "pygments_lexer": "ipython3",
   "version": "3.7.4"
  }
 },
 "nbformat": 4,
 "nbformat_minor": 1
}
